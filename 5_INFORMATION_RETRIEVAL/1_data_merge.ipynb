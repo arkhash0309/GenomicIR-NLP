{
 "cells": [
  {
   "cell_type": "code",
   "execution_count": 6,
   "id": "7028943a",
   "metadata": {},
   "outputs": [],
   "source": [
    "import pandas as pd"
   ]
  },
  {
   "cell_type": "code",
   "execution_count": 7,
   "id": "68b559ce",
   "metadata": {},
   "outputs": [
    {
     "data": {
      "application/vnd.microsoft.datawrangler.viewer.v0+json": {
       "columns": [
        {
         "name": "index",
         "rawType": "int64",
         "type": "integer"
        },
        {
         "name": "Title",
         "rawType": "object",
         "type": "string"
        },
        {
         "name": "Authors",
         "rawType": "float64",
         "type": "float"
        },
        {
         "name": "DOI",
         "rawType": "object",
         "type": "string"
        },
        {
         "name": "Date",
         "rawType": "float64",
         "type": "float"
        },
        {
         "name": "Paper URL",
         "rawType": "object",
         "type": "string"
        }
       ],
       "conversionMethod": "pd.DataFrame",
       "ref": "88622267-5c8a-4e0e-a187-8bb1b8d99f4d",
       "rows": [
        [
         "0",
         "Genome sequence assembly and annotation of MATA and MATB strains of Yarrowia lipolytica",
         null,
         "https://doi.org/10.1101/2025.03.24.645116",
         null,
         "https://www.biorxiv.org/content/10.1101/2025.03.24.645116v1"
        ],
        [
         "1",
         "Development of metagenomic methods for non-invasive health monitoring of endangered species: Unveiling hidden microbial threats in fecal samples",
         null,
         "https://doi.org/10.1101/2025.01.21.633432",
         null,
         "https://www.biorxiv.org/content/10.1101/2025.01.21.633432v2"
        ],
        [
         "2",
         "Evaluating Methods for the Prediction of Cell Type-Specific Enhancers in the Mammalian Cortex",
         null,
         "https://doi.org/10.1101/2024.08.21.609075",
         null,
         "https://www.biorxiv.org/content/10.1101/2024.08.21.609075v3"
        ],
        [
         "3",
         "Single-cell multiome and enhancer connectome of human retinal pigment epithelium and choroid nominate pathogenic variants in age-related macular degeneration",
         null,
         "https://doi.org/10.1101/2025.03.21.644670",
         null,
         "https://www.biorxiv.org/content/10.1101/2025.03.21.644670v1"
        ],
        [
         "4",
         "Phenotypic tolerance for rDNA copy number variation within the natural range of C. elegans",
         null,
         "https://doi.org/10.1101/2025.03.21.644675",
         null,
         "https://www.biorxiv.org/content/10.1101/2025.03.21.644675v1"
        ]
       ],
       "shape": {
        "columns": 5,
        "rows": 5
       }
      },
      "text/html": [
       "<div>\n",
       "<style scoped>\n",
       "    .dataframe tbody tr th:only-of-type {\n",
       "        vertical-align: middle;\n",
       "    }\n",
       "\n",
       "    .dataframe tbody tr th {\n",
       "        vertical-align: top;\n",
       "    }\n",
       "\n",
       "    .dataframe thead th {\n",
       "        text-align: right;\n",
       "    }\n",
       "</style>\n",
       "<table border=\"1\" class=\"dataframe\">\n",
       "  <thead>\n",
       "    <tr style=\"text-align: right;\">\n",
       "      <th></th>\n",
       "      <th>Title</th>\n",
       "      <th>Authors</th>\n",
       "      <th>DOI</th>\n",
       "      <th>Date</th>\n",
       "      <th>Paper URL</th>\n",
       "    </tr>\n",
       "  </thead>\n",
       "  <tbody>\n",
       "    <tr>\n",
       "      <th>0</th>\n",
       "      <td>Genome sequence assembly and annotation of MAT...</td>\n",
       "      <td>NaN</td>\n",
       "      <td>https://doi.org/10.1101/2025.03.24.645116</td>\n",
       "      <td>NaN</td>\n",
       "      <td>https://www.biorxiv.org/content/10.1101/2025.0...</td>\n",
       "    </tr>\n",
       "    <tr>\n",
       "      <th>1</th>\n",
       "      <td>Development of metagenomic methods for non-inv...</td>\n",
       "      <td>NaN</td>\n",
       "      <td>https://doi.org/10.1101/2025.01.21.633432</td>\n",
       "      <td>NaN</td>\n",
       "      <td>https://www.biorxiv.org/content/10.1101/2025.0...</td>\n",
       "    </tr>\n",
       "    <tr>\n",
       "      <th>2</th>\n",
       "      <td>Evaluating Methods for the Prediction of Cell ...</td>\n",
       "      <td>NaN</td>\n",
       "      <td>https://doi.org/10.1101/2024.08.21.609075</td>\n",
       "      <td>NaN</td>\n",
       "      <td>https://www.biorxiv.org/content/10.1101/2024.0...</td>\n",
       "    </tr>\n",
       "    <tr>\n",
       "      <th>3</th>\n",
       "      <td>Single-cell multiome and enhancer connectome o...</td>\n",
       "      <td>NaN</td>\n",
       "      <td>https://doi.org/10.1101/2025.03.21.644670</td>\n",
       "      <td>NaN</td>\n",
       "      <td>https://www.biorxiv.org/content/10.1101/2025.0...</td>\n",
       "    </tr>\n",
       "    <tr>\n",
       "      <th>4</th>\n",
       "      <td>Phenotypic tolerance for rDNA copy number vari...</td>\n",
       "      <td>NaN</td>\n",
       "      <td>https://doi.org/10.1101/2025.03.21.644675</td>\n",
       "      <td>NaN</td>\n",
       "      <td>https://www.biorxiv.org/content/10.1101/2025.0...</td>\n",
       "    </tr>\n",
       "  </tbody>\n",
       "</table>\n",
       "</div>"
      ],
      "text/plain": [
       "                                               Title  Authors  \\\n",
       "0  Genome sequence assembly and annotation of MAT...      NaN   \n",
       "1  Development of metagenomic methods for non-inv...      NaN   \n",
       "2  Evaluating Methods for the Prediction of Cell ...      NaN   \n",
       "3  Single-cell multiome and enhancer connectome o...      NaN   \n",
       "4  Phenotypic tolerance for rDNA copy number vari...      NaN   \n",
       "\n",
       "                                         DOI  Date  \\\n",
       "0  https://doi.org/10.1101/2025.03.24.645116   NaN   \n",
       "1  https://doi.org/10.1101/2025.01.21.633432   NaN   \n",
       "2  https://doi.org/10.1101/2024.08.21.609075   NaN   \n",
       "3  https://doi.org/10.1101/2025.03.21.644670   NaN   \n",
       "4  https://doi.org/10.1101/2025.03.21.644675   NaN   \n",
       "\n",
       "                                           Paper URL  \n",
       "0  https://www.biorxiv.org/content/10.1101/2025.0...  \n",
       "1  https://www.biorxiv.org/content/10.1101/2025.0...  \n",
       "2  https://www.biorxiv.org/content/10.1101/2024.0...  \n",
       "3  https://www.biorxiv.org/content/10.1101/2025.0...  \n",
       "4  https://www.biorxiv.org/content/10.1101/2025.0...  "
      ]
     },
     "execution_count": 7,
     "metadata": {},
     "output_type": "execute_result"
    }
   ],
   "source": [
    "df = pd.read_csv('csvs/biorxiv_genomics_papers_7070.csv')\n",
    "df.head()"
   ]
  },
  {
   "cell_type": "code",
   "execution_count": 8,
   "id": "4b3ff7da",
   "metadata": {},
   "outputs": [
    {
     "data": {
      "application/vnd.microsoft.datawrangler.viewer.v0+json": {
       "columns": [
        {
         "name": "index",
         "rawType": "int64",
         "type": "integer"
        },
        {
         "name": "Paper URL",
         "rawType": "object",
         "type": "string"
        },
        {
         "name": "Abstract",
         "rawType": "object",
         "type": "string"
        },
        {
         "name": "Summary",
         "rawType": "object",
         "type": "string"
        }
       ],
       "conversionMethod": "pd.DataFrame",
       "ref": "10d2ea8c-90ca-4324-9835-b9830a7d8748",
       "rows": [
        [
         "0",
         "https://www.biorxiv.org/content/10.1101/2025.03.24.645116v1",
         "AbstractYeast is commonly utilized in molecular and cell biology research, and Yarrowia lipolytica is favored by bio-engineers due to its ability to produce copious amounts of lipids, chemicals, and enzymes for industrial applications. Y. lipolytica is a dimorphic yeast that can proliferate in aerobic and hydrophobic environments conducive to industrial use. However, there is limited knowledge about the basic molecular biology of this yeast, including how the genome is duplicated and how gene silencing occurs. Genome sequences of Y. lipolytica strains have offered insights into this yeast species and have facilitated the development of new industrial applications. Although previous studies have reported the genome sequence of a few Y. lipolytica strains, it is of value to have more precise sequences and annotation, particularly for studies of the biology of this yeast. To further study and characterize the molecular biology of this microorganism, a high-quality reference genome assembly and annotation has been produced for two related Y. lipolytica strains of the opposite mating type, MATA (E122) and MATB (22301-5). The combination of short-read and long-read sequencing of genome DNA and short-read and long-read sequencing of transcript cDNAs allowed the genome assembly and a comparison with a distantly related Yarrowia strain.",
         "Y. lipolytica is a dimorphic yeast that can proliferate in aerobic and hydrophobic environments conducive to industrial use. a high-quality reference genome assembly and annotation has been produced for two related Y. lipolytica strains."
        ],
        [
         "1",
         "https://www.biorxiv.org/content/10.1101/2025.01.21.633432v2",
         "AbstractMetagenomic analysis of feces is emerging as a powerful tool for improving the monitoring of endangered species. A critical aspect in assessing the extinction risk of a species is the analysis of the burden of parasites and pathogens that can negatively affect the health of individuals. However, the identification of pathogens in non-model species using metagenomics is a major challenge due to the lack of reference genome sequences or data limited to distantly related species. In this study, we developed a pipeline for detecting potentially pathogenic bacteria from metagenomic sequences by mapping unassembled reads to available reference genomes. The approach uses the breadth of genome coverage rather than the number of mapped reads for species identification, thereby minimizing false positives due to conserved or repetitive genomic regions. We applied this method to fresh fecal samples of the Iberian desman (Galemys pyrenaicus), a critically endangered semi-aquatic mammal. Our analysis revealed the presence of 19 potentially pathogenic bacterial species, with prevalences ranging from a single individual to 30% of the samples. We also detected some desmans with elevated or altered pathogen loads, suggesting variations in individual health status or different environmental exposures. This work represents a novel application of metagenomic methods for species-level pathogen detection in wildlife using fecal samples. Application of this method across populations and over time for endangered species may provide essential health and epidemiological information to improve conservation strategies.",
         "metagenomics analysis of feces is emerging as a powerful tool for improving the monitoring of endangered species. a critical aspect in assessing the extinction risk of a species is the analysis of the burden of parasites and pathogens."
        ],
        [
         "2",
         "https://www.biorxiv.org/content/10.1101/2024.08.21.609075v3",
         "AbstractIdentifying cell type-specific enhancers in the brain is critical to building genetic tools for investigating the mammalian brain. Computational methods for functional enhancer prediction have been proposed and validated in the fruit fly and not yet the mammalian brain. We organized the 'Brain Initiative Cell Census Network (BICCN) Challenge: Predicting Functional Cell Type-Specific Enhancers from Cross-Species MultiOmics' to assess machine learning and feature-based methods designed to nominate enhancer DNA sequences to target cell types in the mouse cortex. Methods were evaluated based on in vivo validation data from hundreds of cortical cell type-specific enhancers that were previously packaged into individual AAV vectors and retro-orbitally injected into mice. We find that open chromatin was a key predictor of functional enhancers, and sequence models improved prediction of non-functional enhancers that can be deprioritized as opposed to pursued for in vivo testing. Sequence models also identified cell type-specific transcription factor codes that can guide designs of in silico enhancers. This community challenge establishes a benchmark for enhancer prioritization algorithms and reveals computational approaches and molecular information that are crucial for identifying functional enhancers in mammalian cortical cell types. The results of this challenge bring us closer to understanding the complex gene regulatory landscape of the mammalian cortex and to designing more efficient genetic tools to target cortical cell types.",
         "computational methods for functional enhancer prediction have been proposed and validated in the fruit fly and not yet the mammalian brain. results of this community challenge bring us closer to understanding the complex gene regulatory landscape of the mammalian cortex."
        ],
        [
         "3",
         "https://www.biorxiv.org/content/10.1101/2025.03.21.644670v1",
         "SUMMARYAge-related macular degeneration (AMD) is a leading cause of vision loss worldwide. Genome-wide association studies (GWAS) of AMD have identified dozens of risk loci that may house disease targets. However, variants at these loci are largely noncoding, making it difficult to assess their function and whether they are causal. Here, we present a single-cell gene expression and chromatin accessibility atlas of human retinal pigment epithelium (RPE) and choroid to systematically analyze both coding and noncoding variants implicated in AMD. We employ HiChIP and Activity-by-Contact modeling to map enhancers in these tissues and predict cell and gene targets of risk variants. We further perform allele-specific self-transcribing active regulatory region sequencing (STARR-seq) to functionally test variant activity in RPE cells, including in the context of complement activation. Our work nominates new pathogenic variants and mechanisms in AMD and offers a rich and accessible resource for studying diseases of the RPE and choroid.",
         "genome-wide association studies of AMD have identified dozens of risk loci that may house disease targets. variants at these loci are largely noncoding, making it difficult to assess their function and whether they are causal. we use HiChIP and Activity-by-Contact modeling to map enhancers in these tissues and predict cell and gene targets of risk variants."
        ],
        [
         "4",
         "https://www.biorxiv.org/content/10.1101/2025.03.21.644675v1",
         "ABSTRACTThe genes for ribosomal RNA (rRNA) are encoded by ribosomal DNA (rDNA), whose structure is notable for being present in arrays of tens to thousands of tandemly repeated copies in eukaryotic genomes. The exact number of rDNA copies per genome is highly variable within a species, with differences between individuals measuring in potentially hundreds of copies and megabases of DNA. The extent to which natural variation in rDNA copy number impacts whole-organism phenotypes such as fitness and lifespan is poorly understood, in part due to difficulties in manipulating such large and repetitive tracts of DNA even in model organisms. Here, we used the natural resource of copy number variation in C. elegans wild isolates to generate new tools and investigated the phenotypic consequences of this variation. Specifically, we generated a panel of recombinant inbred lines (RILs) using a laboratory strain derivative with ∼130 haploid rDNA copies and a wild isolate with ∼417 haploid rDNA copies, one of the highest validated C. elegans rDNA copy number arrays. We find that rDNA copy number is stable in the RILs, rejecting prior hypotheses that predicted copy number instability and copy number reversion. To isolate effects of rDNA copy number on phenotype, we produced a series of near isogenic lines (NILs) with rDNA copy numbers representing the high and low end of the rDNA copy number spectrum in C. elegans wild isolates. We find no correlation between rDNA copy number and phenotypes of rRNA abundance, competitive fitness, early life fertility, lifespan, or global transcriptome under standard laboratory conditions. These findings demonstrate a remarkable ability of C. elegans to tolerate substantial variation in a locus critical to fundamental cell function. Our study provides strain resources for future investigations into the boundaries of this tolerance.",
         "the exact number of rDNA copies per genome is highly variable within a species. the extent to which natural variation in rDNA copy number impacts whole-organism phenotypes such as fitness and lifespan is poorly understood."
        ]
       ],
       "shape": {
        "columns": 3,
        "rows": 5
       }
      },
      "text/html": [
       "<div>\n",
       "<style scoped>\n",
       "    .dataframe tbody tr th:only-of-type {\n",
       "        vertical-align: middle;\n",
       "    }\n",
       "\n",
       "    .dataframe tbody tr th {\n",
       "        vertical-align: top;\n",
       "    }\n",
       "\n",
       "    .dataframe thead th {\n",
       "        text-align: right;\n",
       "    }\n",
       "</style>\n",
       "<table border=\"1\" class=\"dataframe\">\n",
       "  <thead>\n",
       "    <tr style=\"text-align: right;\">\n",
       "      <th></th>\n",
       "      <th>Paper URL</th>\n",
       "      <th>Abstract</th>\n",
       "      <th>Summary</th>\n",
       "    </tr>\n",
       "  </thead>\n",
       "  <tbody>\n",
       "    <tr>\n",
       "      <th>0</th>\n",
       "      <td>https://www.biorxiv.org/content/10.1101/2025.0...</td>\n",
       "      <td>AbstractYeast is commonly utilized in molecula...</td>\n",
       "      <td>Y. lipolytica is a dimorphic yeast that can pr...</td>\n",
       "    </tr>\n",
       "    <tr>\n",
       "      <th>1</th>\n",
       "      <td>https://www.biorxiv.org/content/10.1101/2025.0...</td>\n",
       "      <td>AbstractMetagenomic analysis of feces is emerg...</td>\n",
       "      <td>metagenomics analysis of feces is emerging as ...</td>\n",
       "    </tr>\n",
       "    <tr>\n",
       "      <th>2</th>\n",
       "      <td>https://www.biorxiv.org/content/10.1101/2024.0...</td>\n",
       "      <td>AbstractIdentifying cell type-specific enhance...</td>\n",
       "      <td>computational methods for functional enhancer ...</td>\n",
       "    </tr>\n",
       "    <tr>\n",
       "      <th>3</th>\n",
       "      <td>https://www.biorxiv.org/content/10.1101/2025.0...</td>\n",
       "      <td>SUMMARYAge-related macular degeneration (AMD) ...</td>\n",
       "      <td>genome-wide association studies of AMD have id...</td>\n",
       "    </tr>\n",
       "    <tr>\n",
       "      <th>4</th>\n",
       "      <td>https://www.biorxiv.org/content/10.1101/2025.0...</td>\n",
       "      <td>ABSTRACTThe genes for ribosomal RNA (rRNA) are...</td>\n",
       "      <td>the exact number of rDNA copies per genome is ...</td>\n",
       "    </tr>\n",
       "  </tbody>\n",
       "</table>\n",
       "</div>"
      ],
      "text/plain": [
       "                                           Paper URL  \\\n",
       "0  https://www.biorxiv.org/content/10.1101/2025.0...   \n",
       "1  https://www.biorxiv.org/content/10.1101/2025.0...   \n",
       "2  https://www.biorxiv.org/content/10.1101/2024.0...   \n",
       "3  https://www.biorxiv.org/content/10.1101/2025.0...   \n",
       "4  https://www.biorxiv.org/content/10.1101/2025.0...   \n",
       "\n",
       "                                            Abstract  \\\n",
       "0  AbstractYeast is commonly utilized in molecula...   \n",
       "1  AbstractMetagenomic analysis of feces is emerg...   \n",
       "2  AbstractIdentifying cell type-specific enhance...   \n",
       "3  SUMMARYAge-related macular degeneration (AMD) ...   \n",
       "4  ABSTRACTThe genes for ribosomal RNA (rRNA) are...   \n",
       "\n",
       "                                             Summary  \n",
       "0  Y. lipolytica is a dimorphic yeast that can pr...  \n",
       "1  metagenomics analysis of feces is emerging as ...  \n",
       "2  computational methods for functional enhancer ...  \n",
       "3  genome-wide association studies of AMD have id...  \n",
       "4  the exact number of rDNA copies per genome is ...  "
      ]
     },
     "execution_count": 8,
     "metadata": {},
     "output_type": "execute_result"
    }
   ],
   "source": [
    "df_abstract = pd.read_csv('csvs/generated_abstract_summaries.csv')\n",
    "df_abstract.head()"
   ]
  },
  {
   "cell_type": "code",
   "execution_count": 9,
   "id": "356db41f",
   "metadata": {},
   "outputs": [],
   "source": [
    "df.drop_duplicates(inplace=True)\n",
    "df_abstract.drop_duplicates(inplace=True)"
   ]
  },
  {
   "cell_type": "code",
   "execution_count": 10,
   "id": "28185bab",
   "metadata": {},
   "outputs": [
    {
     "data": {
      "text/plain": [
       "((7069, 5), (7069, 3))"
      ]
     },
     "execution_count": 10,
     "metadata": {},
     "output_type": "execute_result"
    }
   ],
   "source": [
    "df.shape, df_abstract.shape"
   ]
  },
  {
   "cell_type": "code",
   "execution_count": 11,
   "id": "fd162109",
   "metadata": {},
   "outputs": [
    {
     "data": {
      "application/vnd.microsoft.datawrangler.viewer.v0+json": {
       "columns": [
        {
         "name": "index",
         "rawType": "int64",
         "type": "integer"
        },
        {
         "name": "Title",
         "rawType": "object",
         "type": "string"
        },
        {
         "name": "Authors",
         "rawType": "float64",
         "type": "float"
        },
        {
         "name": "DOI",
         "rawType": "object",
         "type": "string"
        },
        {
         "name": "Date",
         "rawType": "float64",
         "type": "float"
        },
        {
         "name": "Paper URL",
         "rawType": "object",
         "type": "string"
        },
        {
         "name": "Abstract",
         "rawType": "object",
         "type": "string"
        },
        {
         "name": "Summary",
         "rawType": "object",
         "type": "string"
        }
       ],
       "conversionMethod": "pd.DataFrame",
       "ref": "148eeb2e-eae7-4ed4-8eb5-588aab9906ad",
       "rows": [
        [
         "0",
         "Genome sequence assembly and annotation of MATA and MATB strains of Yarrowia lipolytica",
         null,
         "https://doi.org/10.1101/2025.03.24.645116",
         null,
         "https://www.biorxiv.org/content/10.1101/2025.03.24.645116v1",
         "AbstractYeast is commonly utilized in molecular and cell biology research, and Yarrowia lipolytica is favored by bio-engineers due to its ability to produce copious amounts of lipids, chemicals, and enzymes for industrial applications. Y. lipolytica is a dimorphic yeast that can proliferate in aerobic and hydrophobic environments conducive to industrial use. However, there is limited knowledge about the basic molecular biology of this yeast, including how the genome is duplicated and how gene silencing occurs. Genome sequences of Y. lipolytica strains have offered insights into this yeast species and have facilitated the development of new industrial applications. Although previous studies have reported the genome sequence of a few Y. lipolytica strains, it is of value to have more precise sequences and annotation, particularly for studies of the biology of this yeast. To further study and characterize the molecular biology of this microorganism, a high-quality reference genome assembly and annotation has been produced for two related Y. lipolytica strains of the opposite mating type, MATA (E122) and MATB (22301-5). The combination of short-read and long-read sequencing of genome DNA and short-read and long-read sequencing of transcript cDNAs allowed the genome assembly and a comparison with a distantly related Yarrowia strain.",
         "Y. lipolytica is a dimorphic yeast that can proliferate in aerobic and hydrophobic environments conducive to industrial use. a high-quality reference genome assembly and annotation has been produced for two related Y. lipolytica strains."
        ],
        [
         "1",
         "Development of metagenomic methods for non-invasive health monitoring of endangered species: Unveiling hidden microbial threats in fecal samples",
         null,
         "https://doi.org/10.1101/2025.01.21.633432",
         null,
         "https://www.biorxiv.org/content/10.1101/2025.01.21.633432v2",
         "AbstractMetagenomic analysis of feces is emerging as a powerful tool for improving the monitoring of endangered species. A critical aspect in assessing the extinction risk of a species is the analysis of the burden of parasites and pathogens that can negatively affect the health of individuals. However, the identification of pathogens in non-model species using metagenomics is a major challenge due to the lack of reference genome sequences or data limited to distantly related species. In this study, we developed a pipeline for detecting potentially pathogenic bacteria from metagenomic sequences by mapping unassembled reads to available reference genomes. The approach uses the breadth of genome coverage rather than the number of mapped reads for species identification, thereby minimizing false positives due to conserved or repetitive genomic regions. We applied this method to fresh fecal samples of the Iberian desman (Galemys pyrenaicus), a critically endangered semi-aquatic mammal. Our analysis revealed the presence of 19 potentially pathogenic bacterial species, with prevalences ranging from a single individual to 30% of the samples. We also detected some desmans with elevated or altered pathogen loads, suggesting variations in individual health status or different environmental exposures. This work represents a novel application of metagenomic methods for species-level pathogen detection in wildlife using fecal samples. Application of this method across populations and over time for endangered species may provide essential health and epidemiological information to improve conservation strategies.",
         "metagenomics analysis of feces is emerging as a powerful tool for improving the monitoring of endangered species. a critical aspect in assessing the extinction risk of a species is the analysis of the burden of parasites and pathogens."
        ],
        [
         "2",
         "Evaluating Methods for the Prediction of Cell Type-Specific Enhancers in the Mammalian Cortex",
         null,
         "https://doi.org/10.1101/2024.08.21.609075",
         null,
         "https://www.biorxiv.org/content/10.1101/2024.08.21.609075v3",
         "AbstractIdentifying cell type-specific enhancers in the brain is critical to building genetic tools for investigating the mammalian brain. Computational methods for functional enhancer prediction have been proposed and validated in the fruit fly and not yet the mammalian brain. We organized the 'Brain Initiative Cell Census Network (BICCN) Challenge: Predicting Functional Cell Type-Specific Enhancers from Cross-Species MultiOmics' to assess machine learning and feature-based methods designed to nominate enhancer DNA sequences to target cell types in the mouse cortex. Methods were evaluated based on in vivo validation data from hundreds of cortical cell type-specific enhancers that were previously packaged into individual AAV vectors and retro-orbitally injected into mice. We find that open chromatin was a key predictor of functional enhancers, and sequence models improved prediction of non-functional enhancers that can be deprioritized as opposed to pursued for in vivo testing. Sequence models also identified cell type-specific transcription factor codes that can guide designs of in silico enhancers. This community challenge establishes a benchmark for enhancer prioritization algorithms and reveals computational approaches and molecular information that are crucial for identifying functional enhancers in mammalian cortical cell types. The results of this challenge bring us closer to understanding the complex gene regulatory landscape of the mammalian cortex and to designing more efficient genetic tools to target cortical cell types.",
         "computational methods for functional enhancer prediction have been proposed and validated in the fruit fly and not yet the mammalian brain. results of this community challenge bring us closer to understanding the complex gene regulatory landscape of the mammalian cortex."
        ],
        [
         "3",
         "Single-cell multiome and enhancer connectome of human retinal pigment epithelium and choroid nominate pathogenic variants in age-related macular degeneration",
         null,
         "https://doi.org/10.1101/2025.03.21.644670",
         null,
         "https://www.biorxiv.org/content/10.1101/2025.03.21.644670v1",
         "SUMMARYAge-related macular degeneration (AMD) is a leading cause of vision loss worldwide. Genome-wide association studies (GWAS) of AMD have identified dozens of risk loci that may house disease targets. However, variants at these loci are largely noncoding, making it difficult to assess their function and whether they are causal. Here, we present a single-cell gene expression and chromatin accessibility atlas of human retinal pigment epithelium (RPE) and choroid to systematically analyze both coding and noncoding variants implicated in AMD. We employ HiChIP and Activity-by-Contact modeling to map enhancers in these tissues and predict cell and gene targets of risk variants. We further perform allele-specific self-transcribing active regulatory region sequencing (STARR-seq) to functionally test variant activity in RPE cells, including in the context of complement activation. Our work nominates new pathogenic variants and mechanisms in AMD and offers a rich and accessible resource for studying diseases of the RPE and choroid.",
         "genome-wide association studies of AMD have identified dozens of risk loci that may house disease targets. variants at these loci are largely noncoding, making it difficult to assess their function and whether they are causal. we use HiChIP and Activity-by-Contact modeling to map enhancers in these tissues and predict cell and gene targets of risk variants."
        ],
        [
         "4",
         "Phenotypic tolerance for rDNA copy number variation within the natural range of C. elegans",
         null,
         "https://doi.org/10.1101/2025.03.21.644675",
         null,
         "https://www.biorxiv.org/content/10.1101/2025.03.21.644675v1",
         "ABSTRACTThe genes for ribosomal RNA (rRNA) are encoded by ribosomal DNA (rDNA), whose structure is notable for being present in arrays of tens to thousands of tandemly repeated copies in eukaryotic genomes. The exact number of rDNA copies per genome is highly variable within a species, with differences between individuals measuring in potentially hundreds of copies and megabases of DNA. The extent to which natural variation in rDNA copy number impacts whole-organism phenotypes such as fitness and lifespan is poorly understood, in part due to difficulties in manipulating such large and repetitive tracts of DNA even in model organisms. Here, we used the natural resource of copy number variation in C. elegans wild isolates to generate new tools and investigated the phenotypic consequences of this variation. Specifically, we generated a panel of recombinant inbred lines (RILs) using a laboratory strain derivative with ∼130 haploid rDNA copies and a wild isolate with ∼417 haploid rDNA copies, one of the highest validated C. elegans rDNA copy number arrays. We find that rDNA copy number is stable in the RILs, rejecting prior hypotheses that predicted copy number instability and copy number reversion. To isolate effects of rDNA copy number on phenotype, we produced a series of near isogenic lines (NILs) with rDNA copy numbers representing the high and low end of the rDNA copy number spectrum in C. elegans wild isolates. We find no correlation between rDNA copy number and phenotypes of rRNA abundance, competitive fitness, early life fertility, lifespan, or global transcriptome under standard laboratory conditions. These findings demonstrate a remarkable ability of C. elegans to tolerate substantial variation in a locus critical to fundamental cell function. Our study provides strain resources for future investigations into the boundaries of this tolerance.",
         "the exact number of rDNA copies per genome is highly variable within a species. the extent to which natural variation in rDNA copy number impacts whole-organism phenotypes such as fitness and lifespan is poorly understood."
        ]
       ],
       "shape": {
        "columns": 7,
        "rows": 5
       }
      },
      "text/html": [
       "<div>\n",
       "<style scoped>\n",
       "    .dataframe tbody tr th:only-of-type {\n",
       "        vertical-align: middle;\n",
       "    }\n",
       "\n",
       "    .dataframe tbody tr th {\n",
       "        vertical-align: top;\n",
       "    }\n",
       "\n",
       "    .dataframe thead th {\n",
       "        text-align: right;\n",
       "    }\n",
       "</style>\n",
       "<table border=\"1\" class=\"dataframe\">\n",
       "  <thead>\n",
       "    <tr style=\"text-align: right;\">\n",
       "      <th></th>\n",
       "      <th>Title</th>\n",
       "      <th>Authors</th>\n",
       "      <th>DOI</th>\n",
       "      <th>Date</th>\n",
       "      <th>Paper URL</th>\n",
       "      <th>Abstract</th>\n",
       "      <th>Summary</th>\n",
       "    </tr>\n",
       "  </thead>\n",
       "  <tbody>\n",
       "    <tr>\n",
       "      <th>0</th>\n",
       "      <td>Genome sequence assembly and annotation of MAT...</td>\n",
       "      <td>NaN</td>\n",
       "      <td>https://doi.org/10.1101/2025.03.24.645116</td>\n",
       "      <td>NaN</td>\n",
       "      <td>https://www.biorxiv.org/content/10.1101/2025.0...</td>\n",
       "      <td>AbstractYeast is commonly utilized in molecula...</td>\n",
       "      <td>Y. lipolytica is a dimorphic yeast that can pr...</td>\n",
       "    </tr>\n",
       "    <tr>\n",
       "      <th>1</th>\n",
       "      <td>Development of metagenomic methods for non-inv...</td>\n",
       "      <td>NaN</td>\n",
       "      <td>https://doi.org/10.1101/2025.01.21.633432</td>\n",
       "      <td>NaN</td>\n",
       "      <td>https://www.biorxiv.org/content/10.1101/2025.0...</td>\n",
       "      <td>AbstractMetagenomic analysis of feces is emerg...</td>\n",
       "      <td>metagenomics analysis of feces is emerging as ...</td>\n",
       "    </tr>\n",
       "    <tr>\n",
       "      <th>2</th>\n",
       "      <td>Evaluating Methods for the Prediction of Cell ...</td>\n",
       "      <td>NaN</td>\n",
       "      <td>https://doi.org/10.1101/2024.08.21.609075</td>\n",
       "      <td>NaN</td>\n",
       "      <td>https://www.biorxiv.org/content/10.1101/2024.0...</td>\n",
       "      <td>AbstractIdentifying cell type-specific enhance...</td>\n",
       "      <td>computational methods for functional enhancer ...</td>\n",
       "    </tr>\n",
       "    <tr>\n",
       "      <th>3</th>\n",
       "      <td>Single-cell multiome and enhancer connectome o...</td>\n",
       "      <td>NaN</td>\n",
       "      <td>https://doi.org/10.1101/2025.03.21.644670</td>\n",
       "      <td>NaN</td>\n",
       "      <td>https://www.biorxiv.org/content/10.1101/2025.0...</td>\n",
       "      <td>SUMMARYAge-related macular degeneration (AMD) ...</td>\n",
       "      <td>genome-wide association studies of AMD have id...</td>\n",
       "    </tr>\n",
       "    <tr>\n",
       "      <th>4</th>\n",
       "      <td>Phenotypic tolerance for rDNA copy number vari...</td>\n",
       "      <td>NaN</td>\n",
       "      <td>https://doi.org/10.1101/2025.03.21.644675</td>\n",
       "      <td>NaN</td>\n",
       "      <td>https://www.biorxiv.org/content/10.1101/2025.0...</td>\n",
       "      <td>ABSTRACTThe genes for ribosomal RNA (rRNA) are...</td>\n",
       "      <td>the exact number of rDNA copies per genome is ...</td>\n",
       "    </tr>\n",
       "  </tbody>\n",
       "</table>\n",
       "</div>"
      ],
      "text/plain": [
       "                                               Title  Authors  \\\n",
       "0  Genome sequence assembly and annotation of MAT...      NaN   \n",
       "1  Development of metagenomic methods for non-inv...      NaN   \n",
       "2  Evaluating Methods for the Prediction of Cell ...      NaN   \n",
       "3  Single-cell multiome and enhancer connectome o...      NaN   \n",
       "4  Phenotypic tolerance for rDNA copy number vari...      NaN   \n",
       "\n",
       "                                         DOI  Date  \\\n",
       "0  https://doi.org/10.1101/2025.03.24.645116   NaN   \n",
       "1  https://doi.org/10.1101/2025.01.21.633432   NaN   \n",
       "2  https://doi.org/10.1101/2024.08.21.609075   NaN   \n",
       "3  https://doi.org/10.1101/2025.03.21.644670   NaN   \n",
       "4  https://doi.org/10.1101/2025.03.21.644675   NaN   \n",
       "\n",
       "                                           Paper URL  \\\n",
       "0  https://www.biorxiv.org/content/10.1101/2025.0...   \n",
       "1  https://www.biorxiv.org/content/10.1101/2025.0...   \n",
       "2  https://www.biorxiv.org/content/10.1101/2024.0...   \n",
       "3  https://www.biorxiv.org/content/10.1101/2025.0...   \n",
       "4  https://www.biorxiv.org/content/10.1101/2025.0...   \n",
       "\n",
       "                                            Abstract  \\\n",
       "0  AbstractYeast is commonly utilized in molecula...   \n",
       "1  AbstractMetagenomic analysis of feces is emerg...   \n",
       "2  AbstractIdentifying cell type-specific enhance...   \n",
       "3  SUMMARYAge-related macular degeneration (AMD) ...   \n",
       "4  ABSTRACTThe genes for ribosomal RNA (rRNA) are...   \n",
       "\n",
       "                                             Summary  \n",
       "0  Y. lipolytica is a dimorphic yeast that can pr...  \n",
       "1  metagenomics analysis of feces is emerging as ...  \n",
       "2  computational methods for functional enhancer ...  \n",
       "3  genome-wide association studies of AMD have id...  \n",
       "4  the exact number of rDNA copies per genome is ...  "
      ]
     },
     "execution_count": 11,
     "metadata": {},
     "output_type": "execute_result"
    }
   ],
   "source": [
    "# merge the two dataframes on the 'Paper URL' column\n",
    "merged_df = pd.merge(df, df_abstract, on='Paper URL', how='inner')\n",
    "merged_df.head()"
   ]
  },
  {
   "cell_type": "code",
   "execution_count": 12,
   "id": "90976821",
   "metadata": {},
   "outputs": [
    {
     "data": {
      "text/plain": [
       "(7069, 7)"
      ]
     },
     "execution_count": 12,
     "metadata": {},
     "output_type": "execute_result"
    }
   ],
   "source": [
    "merged_df.shape"
   ]
  },
  {
   "cell_type": "code",
   "execution_count": 13,
   "id": "efd84c3e",
   "metadata": {},
   "outputs": [
    {
     "data": {
      "text/plain": [
       "Title           0\n",
       "Authors      7069\n",
       "DOI             0\n",
       "Date         7069\n",
       "Paper URL       0\n",
       "Abstract        0\n",
       "Summary         0\n",
       "dtype: int64"
      ]
     },
     "execution_count": 13,
     "metadata": {},
     "output_type": "execute_result"
    }
   ],
   "source": [
    "merged_df.isnull().sum()"
   ]
  },
  {
   "cell_type": "code",
   "execution_count": null,
   "id": "2d7d40db",
   "metadata": {},
   "outputs": [],
   "source": [
    "merged_df.to_csv('data/papers_combined_with_abstract_and_summary.csv', index=False)"
   ]
  }
 ],
 "metadata": {
  "kernelspec": {
   "display_name": "venv_3_11_11",
   "language": "python",
   "name": "python3"
  },
  "language_info": {
   "codemirror_mode": {
    "name": "ipython",
    "version": 3
   },
   "file_extension": ".py",
   "mimetype": "text/x-python",
   "name": "python",
   "nbconvert_exporter": "python",
   "pygments_lexer": "ipython3",
   "version": "3.11.11"
  }
 },
 "nbformat": 4,
 "nbformat_minor": 5
}
